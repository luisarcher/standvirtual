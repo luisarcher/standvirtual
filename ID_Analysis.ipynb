{
 "cells": [
  {
   "cell_type": "markdown",
   "metadata": {},
   "source": [
    "> ID Deep Dive"
   ]
  },
  {
   "cell_type": "code",
   "execution_count": 1,
   "metadata": {},
   "outputs": [],
   "source": [
    "# importing libraries\n",
    "import numpy as np\n",
    "import pandas as pd\n",
    "import matplotlib.pyplot as plt\n",
    "import seaborn as sns\n",
    "import unicodedata\n",
    "import csv"
   ]
  },
  {
   "cell_type": "markdown",
   "metadata": {},
   "source": [
    "#### 1. Data Treatment"
   ]
  },
  {
   "cell_type": "code",
   "execution_count": 2,
   "metadata": {},
   "outputs": [
    {
     "data": {
      "text/html": [
       "<div>\n",
       "<style scoped>\n",
       "    .dataframe tbody tr th:only-of-type {\n",
       "        vertical-align: middle;\n",
       "    }\n",
       "\n",
       "    .dataframe tbody tr th {\n",
       "        vertical-align: top;\n",
       "    }\n",
       "\n",
       "    .dataframe thead th {\n",
       "        text-align: right;\n",
       "    }\n",
       "</style>\n",
       "<table border=\"1\" class=\"dataframe\">\n",
       "  <thead>\n",
       "    <tr style=\"text-align: right;\">\n",
       "      <th></th>\n",
       "      <th>Brand</th>\n",
       "      <th>Title</th>\n",
       "      <th>Kilometer</th>\n",
       "      <th>Gas Type</th>\n",
       "      <th>Gear Box</th>\n",
       "      <th>Year</th>\n",
       "      <th>Price</th>\n",
       "      <th>URL</th>\n",
       "      <th>Ad Date</th>\n",
       "      <th>Ad Model</th>\n",
       "      <th>Ad Doors</th>\n",
       "      <th>Ad Colour</th>\n",
       "      <th>Ad ID</th>\n",
       "    </tr>\n",
       "  </thead>\n",
       "  <tbody>\n",
       "    <tr>\n",
       "      <th>0</th>\n",
       "      <td>BMW</td>\n",
       "      <td>BMW 320 d EfficientDynamics Line Sport</td>\n",
       "      <td>117620</td>\n",
       "      <td>Diesel</td>\n",
       "      <td>Manual</td>\n",
       "      <td>2013</td>\n",
       "      <td>17350</td>\n",
       "      <td>https://www.standvirtual.com/carros/anuncio/bm...</td>\n",
       "      <td>3 de outubro de 2024 às 10:04</td>\n",
       "      <td>Série 3</td>\n",
       "      <td>4.0</td>\n",
       "      <td>Cinzento</td>\n",
       "      <td>ID: 8000850438</td>\n",
       "    </tr>\n",
       "    <tr>\n",
       "      <th>1</th>\n",
       "      <td>Porsche</td>\n",
       "      <td>Porsche 911 (991) Turbo PDK</td>\n",
       "      <td>5800</td>\n",
       "      <td>Gasolina</td>\n",
       "      <td>Automática</td>\n",
       "      <td>2016</td>\n",
       "      <td>187500</td>\n",
       "      <td>https://www.standvirtual.com/carros/anuncio/po...</td>\n",
       "      <td>6 de setembro de 2024 às 10:11</td>\n",
       "      <td>911 (Todos)</td>\n",
       "      <td>2.0</td>\n",
       "      <td>Branco</td>\n",
       "      <td>ID: 8000143482</td>\n",
       "    </tr>\n",
       "    <tr>\n",
       "      <th>2</th>\n",
       "      <td>Porsche</td>\n",
       "      <td>Porsche Panamera</td>\n",
       "      <td>120000</td>\n",
       "      <td>Diesel</td>\n",
       "      <td>Automática</td>\n",
       "      <td>2012</td>\n",
       "      <td>39950</td>\n",
       "      <td>https://www.standvirtual.com/carros/anuncio/po...</td>\n",
       "      <td>13 de setembro de 2024 às 2:45</td>\n",
       "      <td>Panamera</td>\n",
       "      <td>5.0</td>\n",
       "      <td>Branco</td>\n",
       "      <td>ID: 8013955242</td>\n",
       "    </tr>\n",
       "  </tbody>\n",
       "</table>\n",
       "</div>"
      ],
      "text/plain": [
       "     Brand                                   Title  Kilometer  Gas Type  \\\n",
       "0      BMW  BMW 320 d EfficientDynamics Line Sport     117620    Diesel   \n",
       "1  Porsche             Porsche 911 (991) Turbo PDK       5800  Gasolina   \n",
       "2  Porsche                        Porsche Panamera     120000    Diesel   \n",
       "\n",
       "     Gear Box  Year   Price  \\\n",
       "0      Manual  2013   17350   \n",
       "1  Automática  2016  187500   \n",
       "2  Automática  2012   39950   \n",
       "\n",
       "                                                 URL  \\\n",
       "0  https://www.standvirtual.com/carros/anuncio/bm...   \n",
       "1  https://www.standvirtual.com/carros/anuncio/po...   \n",
       "2  https://www.standvirtual.com/carros/anuncio/po...   \n",
       "\n",
       "                          Ad Date     Ad Model  Ad Doors Ad Colour  \\\n",
       "0   3 de outubro de 2024 às 10:04      Série 3       4.0  Cinzento   \n",
       "1  6 de setembro de 2024 às 10:11  911 (Todos)       2.0    Branco   \n",
       "2  13 de setembro de 2024 às 2:45     Panamera       5.0    Branco   \n",
       "\n",
       "            Ad ID  \n",
       "0  ID: 8000850438  \n",
       "1  ID: 8000143482  \n",
       "2  ID: 8013955242  "
      ]
     },
     "execution_count": 2,
     "metadata": {},
     "output_type": "execute_result"
    }
   ],
   "source": [
    "df = pd.read_csv(\n",
    "    \"Dataset_26_10_2024.csv\",\n",
    "    sep=\";\",\n",
    "    header=0,\n",
    "    encoding=\"utf-8\"\n",
    ")\n",
    "\n",
    "# Visualise the first 15 entries\n",
    "df.head(3)"
   ]
  },
  {
   "cell_type": "code",
   "execution_count": 3,
   "metadata": {},
   "outputs": [],
   "source": [
    "### Adding ID Number and Short ID Numbers for Analysis\n",
    "\n",
    "df[\"ID_Number\"] = df[\"Ad ID\"].str.extract(r'(\\d{10})')\n",
    "\n",
    "df[\"Left_4_ID\"] = df[\"ID_Number\"].str[:4]\n",
    "df[\"Left_5_ID\"] = df[\"ID_Number\"].str[:5]\n",
    "df[\"Right_6_ID\"] = df[\"ID_Number\"].str[-6:]"
   ]
  },
  {
   "cell_type": "code",
   "execution_count": 4,
   "metadata": {},
   "outputs": [],
   "source": [
    "### Adding Month column in Text, Short text and Number\n",
    "\n",
    "df[\"Month_Text\"] = df[\"Ad Date\"].str.extract(r'(janeiro|fevereiro|março|abril|maio|junho|julho|agosto|setembro|outubro|novembro|dezembro)')\n",
    "\n",
    "df[\"Month_Text\"] = df[\"Month_Text\"].str[:3]\n",
    "\n",
    "df[\"Month\"] = df[\"Month_Text\"].replace({\n",
    "    \"jan\": \"1\",\n",
    "    \"fev\": \"2\",\n",
    "    \"mar\": \"3\",\n",
    "    \"abr\": \"4\",\n",
    "    \"mai\": \"5\",\n",
    "    \"jun\": \"6\",\n",
    "    \"jul\": \"7\",\n",
    "    \"ago\": \"8\",\n",
    "    \"set\": \"9\",\n",
    "    \"out\": \"10\",\n",
    "    \"nov\": \"11\",\n",
    "    \"dez\": \"12\"\n",
    "    })"
   ]
  },
  {
   "cell_type": "code",
   "execution_count": 5,
   "metadata": {},
   "outputs": [],
   "source": [
    "### Adding day of month\n",
    "\n",
    "df[\"Day\"] = df[\"Ad Date\"].str.extract(r'(\\d{1,3})')"
   ]
  },
  {
   "cell_type": "code",
   "execution_count": 6,
   "metadata": {},
   "outputs": [],
   "source": [
    "### Adding year of ad publication\n",
    "\n",
    "df[\"Year\"] =df[\"Ad Date\"].str.extract(r'\\b(\\d{4})\\b') "
   ]
  },
  {
   "cell_type": "code",
   "execution_count": 7,
   "metadata": {},
   "outputs": [],
   "source": [
    "### Joining newly created column to get a date\n",
    "\n",
    "df[\"Full_Date\"] = pd.to_datetime(df[['Year', 'Month', 'Day']])"
   ]
  },
  {
   "cell_type": "code",
   "execution_count": 8,
   "metadata": {},
   "outputs": [
    {
     "data": {
      "text/html": [
       "<div>\n",
       "<style scoped>\n",
       "    .dataframe tbody tr th:only-of-type {\n",
       "        vertical-align: middle;\n",
       "    }\n",
       "\n",
       "    .dataframe tbody tr th {\n",
       "        vertical-align: top;\n",
       "    }\n",
       "\n",
       "    .dataframe thead th {\n",
       "        text-align: right;\n",
       "    }\n",
       "</style>\n",
       "<table border=\"1\" class=\"dataframe\">\n",
       "  <thead>\n",
       "    <tr style=\"text-align: right;\">\n",
       "      <th></th>\n",
       "      <th>Brand</th>\n",
       "      <th>Title</th>\n",
       "      <th>Kilometer</th>\n",
       "      <th>Gas Type</th>\n",
       "      <th>Gear Box</th>\n",
       "      <th>Year</th>\n",
       "      <th>Price</th>\n",
       "      <th>URL</th>\n",
       "      <th>Ad Date</th>\n",
       "      <th>Ad Model</th>\n",
       "      <th>...</th>\n",
       "      <th>Ad Colour</th>\n",
       "      <th>Ad ID</th>\n",
       "      <th>ID_Number</th>\n",
       "      <th>Left_4_ID</th>\n",
       "      <th>Left_5_ID</th>\n",
       "      <th>Right_6_ID</th>\n",
       "      <th>Month_Text</th>\n",
       "      <th>Month</th>\n",
       "      <th>Day</th>\n",
       "      <th>Full_Date</th>\n",
       "    </tr>\n",
       "  </thead>\n",
       "  <tbody>\n",
       "    <tr>\n",
       "      <th>0</th>\n",
       "      <td>BMW</td>\n",
       "      <td>BMW 320 d EfficientDynamics Line Sport</td>\n",
       "      <td>117620</td>\n",
       "      <td>Diesel</td>\n",
       "      <td>Manual</td>\n",
       "      <td>2024</td>\n",
       "      <td>17350</td>\n",
       "      <td>https://www.standvirtual.com/carros/anuncio/bm...</td>\n",
       "      <td>3 de outubro de 2024 às 10:04</td>\n",
       "      <td>Série 3</td>\n",
       "      <td>...</td>\n",
       "      <td>Cinzento</td>\n",
       "      <td>ID: 8000850438</td>\n",
       "      <td>8000850438</td>\n",
       "      <td>8000</td>\n",
       "      <td>80008</td>\n",
       "      <td>850438</td>\n",
       "      <td>out</td>\n",
       "      <td>10</td>\n",
       "      <td>3</td>\n",
       "      <td>2024-10-03</td>\n",
       "    </tr>\n",
       "    <tr>\n",
       "      <th>1</th>\n",
       "      <td>Porsche</td>\n",
       "      <td>Porsche 911 (991) Turbo PDK</td>\n",
       "      <td>5800</td>\n",
       "      <td>Gasolina</td>\n",
       "      <td>Automática</td>\n",
       "      <td>2024</td>\n",
       "      <td>187500</td>\n",
       "      <td>https://www.standvirtual.com/carros/anuncio/po...</td>\n",
       "      <td>6 de setembro de 2024 às 10:11</td>\n",
       "      <td>911 (Todos)</td>\n",
       "      <td>...</td>\n",
       "      <td>Branco</td>\n",
       "      <td>ID: 8000143482</td>\n",
       "      <td>8000143482</td>\n",
       "      <td>8000</td>\n",
       "      <td>80001</td>\n",
       "      <td>143482</td>\n",
       "      <td>set</td>\n",
       "      <td>9</td>\n",
       "      <td>6</td>\n",
       "      <td>2024-09-06</td>\n",
       "    </tr>\n",
       "    <tr>\n",
       "      <th>2</th>\n",
       "      <td>Porsche</td>\n",
       "      <td>Porsche Panamera</td>\n",
       "      <td>120000</td>\n",
       "      <td>Diesel</td>\n",
       "      <td>Automática</td>\n",
       "      <td>2024</td>\n",
       "      <td>39950</td>\n",
       "      <td>https://www.standvirtual.com/carros/anuncio/po...</td>\n",
       "      <td>13 de setembro de 2024 às 2:45</td>\n",
       "      <td>Panamera</td>\n",
       "      <td>...</td>\n",
       "      <td>Branco</td>\n",
       "      <td>ID: 8013955242</td>\n",
       "      <td>8013955242</td>\n",
       "      <td>8013</td>\n",
       "      <td>80139</td>\n",
       "      <td>955242</td>\n",
       "      <td>set</td>\n",
       "      <td>9</td>\n",
       "      <td>13</td>\n",
       "      <td>2024-09-13</td>\n",
       "    </tr>\n",
       "  </tbody>\n",
       "</table>\n",
       "<p>3 rows × 21 columns</p>\n",
       "</div>"
      ],
      "text/plain": [
       "     Brand                                   Title  Kilometer  Gas Type  \\\n",
       "0      BMW  BMW 320 d EfficientDynamics Line Sport     117620    Diesel   \n",
       "1  Porsche             Porsche 911 (991) Turbo PDK       5800  Gasolina   \n",
       "2  Porsche                        Porsche Panamera     120000    Diesel   \n",
       "\n",
       "     Gear Box  Year   Price  \\\n",
       "0      Manual  2024   17350   \n",
       "1  Automática  2024  187500   \n",
       "2  Automática  2024   39950   \n",
       "\n",
       "                                                 URL  \\\n",
       "0  https://www.standvirtual.com/carros/anuncio/bm...   \n",
       "1  https://www.standvirtual.com/carros/anuncio/po...   \n",
       "2  https://www.standvirtual.com/carros/anuncio/po...   \n",
       "\n",
       "                          Ad Date     Ad Model  ...  Ad Colour  \\\n",
       "0   3 de outubro de 2024 às 10:04      Série 3  ...   Cinzento   \n",
       "1  6 de setembro de 2024 às 10:11  911 (Todos)  ...     Branco   \n",
       "2  13 de setembro de 2024 às 2:45     Panamera  ...     Branco   \n",
       "\n",
       "            Ad ID   ID_Number Left_4_ID Left_5_ID Right_6_ID Month_Text Month  \\\n",
       "0  ID: 8000850438  8000850438      8000     80008     850438        out    10   \n",
       "1  ID: 8000143482  8000143482      8000     80001     143482        set     9   \n",
       "2  ID: 8013955242  8013955242      8013     80139     955242        set     9   \n",
       "\n",
       "  Day  Full_Date  \n",
       "0   3 2024-10-03  \n",
       "1   6 2024-09-06  \n",
       "2  13 2024-09-13  \n",
       "\n",
       "[3 rows x 21 columns]"
      ]
     },
     "execution_count": 8,
     "metadata": {},
     "output_type": "execute_result"
    }
   ],
   "source": [
    "### Checking we have all necessary data\n",
    "\n",
    "# df = df.drop(columns=['Ad Date', 'Ad ID'])\n",
    "df.head(3)"
   ]
  },
  {
   "cell_type": "markdown",
   "metadata": {},
   "source": [
    "#### 2. Pivot Table by ID Code Digits"
   ]
  },
  {
   "cell_type": "markdown",
   "metadata": {},
   "source": [
    "##### 2.1 Pivot Table by 4 ID Code Digits"
   ]
  },
  {
   "cell_type": "code",
   "execution_count": 9,
   "metadata": {},
   "outputs": [
    {
     "name": "stdout",
     "output_type": "stream",
     "text": [
      "Month_Text  mar  abr  mai  jun  jul   ago   set    out\n",
      "Left_4_ID                                             \n",
      "8000          0    0    0    0    0     0     1      1\n",
      "8013          0    0    0    1    0     0     1      0\n",
      "8015          0    0    0    0    0     0     1      0\n",
      "8016          0    0    0    0    0     0     0      1\n",
      "8018          0    0    0    0    0     0     1      0\n",
      "8020          0    0    0    0    0     0     1      0\n",
      "8028          0    0    0    0    0     0     1      0\n",
      "8031          0    0    0    0    0     0     1      0\n",
      "8035          0    0    0    0    0     1     0      0\n",
      "8040          0    0    0    0    0     0     0      1\n",
      "8041          0    0    0    0    1     0     1      0\n",
      "8046          0    0    0    0    0     0     1      0\n",
      "8048          0    0    0    0    0     1     0      0\n",
      "8051          0    0    0    0    0     0     2      0\n",
      "8053          0    0    0    0    0     0     1      0\n",
      "8056          0    0    0    0    0     0     1      0\n",
      "8059          0    0    0    0    0     1     0      0\n",
      "8061          0    0    0    0    0     0     0      1\n",
      "8063          0    0    0    0    0     1     1      0\n",
      "8064          0    0    0    1    0     0     0      0\n",
      "8066          0    0    0    0    0     0     1      0\n",
      "8067          0    0    0    0    0     0     2      0\n",
      "8070          0    0    0    0    0     0     1      0\n",
      "8074          0    0    0    0    0     0     1      0\n",
      "8075          0    0    0    1    0     0     1      0\n",
      "8077          0    0    0    0    0     0     1      0\n",
      "8079          0    0    0    0    0     3     0      1\n",
      "8080          0    0    0    1    2     5     3      1\n",
      "8081          0    0    0    0    0     2     2      1\n",
      "8082          0    0    0    3    1     4     1      0\n",
      "8083          0    0    0    1    2     2     3      2\n",
      "8084          0    0    0    1    4    10    11      4\n",
      "8085          0    0    0    4    4    20    25     12\n",
      "8086          0    0    0    2    7    16    43     24\n",
      "8087          0    0    1    2    2    61   104     76\n",
      "8088          1    0    0    2    2   116   240    132\n",
      "8089          0    0    1    3    4   146   407    226\n",
      "8090          0    1    0    8    6   265   656    433\n",
      "8091          0    0    1   13    9   496  1291   1006\n",
      "8092          0    1    0   25   13   982  2373   2339\n",
      "8093          0    0    0    0   16  1237  6649  15160\n"
     ]
    }
   ],
   "source": [
    "df_left_4_id_pivot = (\n",
    "    df.pivot_table(\n",
    "        index='Left_4_ID',\n",
    "        columns='Month_Text',\n",
    "        values='Price',\n",
    "        aggfunc='count'\n",
    "    )\n",
    "    .fillna(0)\n",
    "    .astype(int)\n",
    ")\n",
    "\n",
    "print(df_left_4_id_pivot[['mar', 'abr', 'mai', 'jun', 'jul', 'ago', 'set', 'out']])"
   ]
  },
  {
   "cell_type": "markdown",
   "metadata": {},
   "source": [
    "##### 2.2 Pivot Table by 5 ID Code Digits"
   ]
  },
  {
   "cell_type": "code",
   "execution_count": 10,
   "metadata": {},
   "outputs": [
    {
     "name": "stdout",
     "output_type": "stream",
     "text": [
      "Month_Text  abr  jun  jul  ago   set   out\n",
      "Left_5_ID                                 \n",
      "80920         0    1    2   79   238   240\n",
      "80921         1    5    3   74   199   192\n",
      "80922         0    1    0   68   177   179\n",
      "80923         0    3    2   93   209   169\n",
      "80924         0    3    1  100   212   230\n",
      "80925         0    2    0   69   182   178\n",
      "80926         0    1    2   99   203   225\n",
      "80927         0    0    1   47   120    98\n",
      "80928         0    1    2  190   440   441\n",
      "80929         0    8    0  163   393   387\n",
      "80930         0    0    7  233   550   557\n",
      "80931         0    0    9  299   612   690\n",
      "80932         0    0    0  363   785   908\n",
      "80933         0    0    0  342   832  1016\n",
      "80934         0    0    0    0  1522  1279\n",
      "80935         0    0    0    0  1786  1909\n",
      "80936         0    0    0    0   562  4917\n",
      "80937         0    0    0    0     0  3884\n"
     ]
    }
   ],
   "source": [
    "pd.set_option('display.max_rows', None)\n",
    "\n",
    "df_left_5_id = df[df[\"Left_4_ID\"].isin(['8092', '8093'])]\n",
    "\n",
    "\n",
    "df_left_5_id_pivot = (\n",
    "    df_left_5_id.pivot_table(\n",
    "        index='Left_5_ID',\n",
    "        columns='Month_Text',\n",
    "        values='Price',\n",
    "        aggfunc='count'\n",
    "    )\n",
    "    .fillna(0)\n",
    "    .astype(int)\n",
    ")\n",
    "\n",
    "print(df_left_5_id_pivot[['abr', 'jun', 'jul', 'ago', 'set', 'out']])"
   ]
  },
  {
   "cell_type": "markdown",
   "metadata": {},
   "source": [
    "\n",
    "\n",
    "> What I know:\n",
    "\n",
    "**(1) When an ad listing is renewed, the original ad listing ID is kept** <span style=\"color:green\">CONFIRMED</span>\n",
    "\n",
    "<p style=\"font-size:16px;\">I created two ads in the same day, on after the other. First one had ID 8093807212 and second ID 8093807218. The second car was sold before renewal (2 weeks), but the first car ad listing had to be renewed. Following the renewal, the ID is still 8093807212. This was also confirmed through the analysis of another randomly selected ad listing which has been renewed since the data in sheet 'SVS_Ad_Info 2' was extracted</p>\n",
    "\n",
    "\n",
    "**(2) The ad listing date on Standvirtual corresponds to the date of last renewal, not the original date of creatiom** <span style=\"color:green\">CONFIRMED</span>\n",
    "\n",
    "<p style=\"font-size:16px;\">Also confirmed this through the anaylsis on point (1)</p>\n",
    "\n",
    "**(3) Furthermore, it seems from the  table above that there is a clear relationship, sequential, between the ad posting date and the 4 digit part of the ID. The ID group #8093 seems to correspond to the most recent listings. The reason why we have old IDs, e.g, #8031, that have currently active ads has to do with the fact that these ads were created a long time ago, and were more recently renewed - i.e., the ID doesn't change, but the publication date changes**\n",
    "\n",
    "> Questions: \n",
    "\n",
    "**(1) How many ad listings are there per first 4 character of the ad listing ID?** <span style=\"color:red\">NOT CONFIRMED</span>\n",
    "\n",
    "**(2) Assuming a similar amount of ads are posted each month, how long does each 4 digit code last?** <span style=\"color:red\">NOT CONFIRMED</span>\n",
    "\n",
    "<p style=\"font-size:16px;\">In my dataset, #8093 first appears in July. Considering that #8094 seems to first appear in November (16.11.2024), it seems that code #8093 'lasted' for 5 months</p>\n",
    "\n",
    "**(3) What is the % of ads which are renewed?** <span style=\"color:red\">NOT CONFIRMED</span>\n",
    "\n",
    "<p style=\"font-size:16px;\">From my analysis, roughly, the only non-renewed listings are the #8093 from August, September & November (2-month period). I'm assuming only #8093 can be non-renewed since the #8093 lasted 4 months (first appeared in July, #8094 first appeared in November). There are 23.046 which were not renewed (#8093 from those 3 months) - that is 66% of active ads. So, as of this extraction date, about 1/3 of ads were renewed</p>\n",
    "\n",
    "**(4) Besides the % of ads which are renewed, for how long are they renewed?** <span style=\"color:red\">NOT CONFIRMED</span>\n",
    "\n",
    "**(5) Wayback Machine Ad Data:**\n",
    "\n",
    "<p style=\"font-size:16px;\">24 maio 2020        8080118904\n",
    "31 maio 2020        8041233890\n",
    "6 junho 2022        8089566485\n",
    "10 agosto 2022      8085670112\n",
    "21 novembro 2022    8088144564\n",
    "23 novembro 2022    8087070698\n",
    "24 novembro 2022    8087999111\n",
    "25 novembro 2022    8084809655\n",
    "27 novembro 2022    8087687458\n",
    "28 novembro 2022    8088157838\n",
    "29 novembro 2022    8087855727\n",
    "7 junho 2023        8089596049</p>\n"
   ]
  },
  {
   "cell_type": "markdown",
   "metadata": {},
   "source": [
    "#### 3. ID Correlation"
   ]
  },
  {
   "cell_type": "code",
   "execution_count": 11,
   "metadata": {},
   "outputs": [
    {
     "name": "stdout",
     "output_type": "stream",
     "text": [
      "Empty DataFrame\n",
      "Columns: [Brand, Title, Kilometer, Gas Type, Gear Box, Year, Price, URL, Ad Date, Ad Model, Ad Doors, Ad Colour, Ad ID, ID_Number, Left_4_ID, Left_5_ID, Right_6_ID, Month_Text, Month, Day, Full_Date, Date]\n",
      "Index: []\n",
      "\n",
      "[0 rows x 22 columns]\n"
     ]
    }
   ],
   "source": [
    "pd.set_option('display.width', 1000)\n",
    "\n",
    "df_scraped = df.copy()\n",
    "\n",
    "df_scraped = df_scraped.dropna(subset=['Ad ID'])        ### Drop links not scraped yet (i.e., no Ad ID or date)\n",
    "df_scraped = df_scraped.dropna(subset=['Ad Date'])      ### Drop 595 ad listings which have Ad ID but no date\n",
    "\n",
    "df_scraped['Date'] = pd.to_datetime(df['Full_Date'])\n",
    "\n",
    "blanks = df_scraped[(df_scraped['Full_Date'].isnull())] ### Check if there are any rows with missing date\n",
    "print(blanks)"
   ]
  },
  {
   "cell_type": "markdown",
   "metadata": {},
   "source": [
    "##### 3.1 Full Dataset ID Correlation"
   ]
  },
  {
   "cell_type": "code",
   "execution_count": 12,
   "metadata": {},
   "outputs": [
    {
     "name": "stdout",
     "output_type": "stream",
     "text": [
      "Correlation: 0.24849860485061248\n"
     ]
    }
   ],
   "source": [
    "# Convert 'date' to a numeric format (e.g., timestamp)\n",
    "df_scraped['Date_Numeric'] = df_scraped['Full_Date'].apply(lambda x: x.timestamp())\n",
    "\n",
    "# Calculate correlation between 'date_numeric' and 'value'\n",
    "correlation_ID_Number = df_scraped['Date_Numeric'].corr(df_scraped['ID_Number'])\n",
    "\n",
    "print(\"Correlation:\", correlation_ID_Number)    "
   ]
  },
  {
   "cell_type": "code",
   "execution_count": 13,
   "metadata": {},
   "outputs": [
    {
     "name": "stdout",
     "output_type": "stream",
     "text": [
      "Correlation: 0.22533832657133787\n"
     ]
    }
   ],
   "source": [
    "# Convert 'date' to a numeric format (e.g., timestamp)\n",
    "df_scraped['Date_Numeric'] = df_scraped['Full_Date'].apply(lambda x: x.timestamp())\n",
    "\n",
    "# Calculate correlation between 'date_numeric' and 'value'\n",
    "correlation_Left_4_ID = df_scraped['Date_Numeric'].corr(df_scraped['Left_4_ID'])\n",
    "\n",
    "print(\"Correlation:\", correlation_Left_4_ID)"
   ]
  },
  {
   "cell_type": "code",
   "execution_count": 40,
   "metadata": {},
   "outputs": [
    {
     "data": {
      "image/png": "[encoded data removed]",
      "text/plain": [
       "<Figure size 1000x600 with 1 Axes>"
      ]
     },
     "metadata": {},
     "output_type": "display_data"
    }
   ],
   "source": [
    "df_scraped____ = df_scraped.sort_values(by=[\"Date\"])\n",
    "df_scraped____ = df_scraped____.drop(columns=['Brand', 'Title', 'Kilometer', 'Gas Type', 'Gear Box', 'Year', 'Price', 'URL', 'Ad Date', 'Ad Model', 'Ad Doors', 'Ad Colour', 'Ad ID', 'Left_4_ID', 'Right_6_ID', 'Month_Text', 'Month', 'Day', 'Full_Date', 'Left_5_ID', 'Date_Numeric'])\n",
    "\n",
    "plt.figure(figsize=(10, 6))  # Adjust the figure size for better visibility\n",
    "ax = plt.gca()  # Get the current axes\n",
    "\n",
    "# Scatter plot\n",
    "plt.scatter(\n",
    "    df_scraped____['Date'], \n",
    "    df_scraped____['ID_Number'], \n",
    "    color='blue', \n",
    "    alpha=0.7,  # Add transparency to handle overlapping points\n",
    "    edgecolor='blue'\n",
    ")\n",
    "\n",
    "# Title and axis labels\n",
    "plt.title('Scatter Plot of Ad Date vs Ad ID', fontsize=14, color='white')\n",
    "plt.xlabel('Ad Date', fontsize=12, color='white')\n",
    "plt.ylabel('Ad ID', fontsize=12, color='white')\n",
    "\n",
    "# Reduce the number of y-axis labels\n",
    "y_ticks = df_scraped____['ID_Number'][::4000]  # Show every 10th ID\n",
    "plt.yticks(ticks=y_ticks, color='white')  # Set tick label color to white\n",
    "\n",
    "# Set x-axis tick label color to white\n",
    "ax.tick_params(axis='x', colors='white')  # Set x-axis tick label color\n",
    "\n",
    "# Add grid\n",
    "plt.grid(True, linestyle='--', color='#1A1A1A', alpha=0.7)\n",
    "\n",
    "# Set dark background\n",
    "plt.gcf().set_facecolor('#1A1A1A')  # Figure background\n",
    "ax.set_facecolor('#1A1A1A')         # Axes background\n",
    "\n",
    "# Optimize layout\n",
    "plt.tight_layout()\n",
    "\n",
    "# Show the plot\n",
    "plt.show()"
   ]
  },
  {
   "cell_type": "markdown",
   "metadata": {},
   "source": [
    "##### 3.2 Non-renewed listings (#8093) Dataset ID Correlation"
   ]
  },
  {
   "cell_type": "code",
   "execution_count": 14,
   "metadata": {},
   "outputs": [],
   "source": [
    "### I assumed all of #8093 were not renewed. In reality there are 16 #8093 ads which I believe were renewed, from July\n",
    "\n",
    "df_scraped_filtered_8093 = df_scraped[df_scraped[\"Left_4_ID\"] == \"8093\"]"
   ]
  },
  {
   "cell_type": "code",
   "execution_count": 15,
   "metadata": {},
   "outputs": [
    {
     "name": "stdout",
     "output_type": "stream",
     "text": [
      "Correlation: 0.4910569054397797\n"
     ]
    }
   ],
   "source": [
    "# Calculate correlation between 'date_numeric' and 'value'\n",
    "correlation_ID_Number_8093 = df_scraped_filtered_8093['Date_Numeric'].corr(df_scraped_filtered_8093['ID_Number'])\n",
    "\n",
    "print(\"Correlation:\", correlation_ID_Number_8093)"
   ]
  },
  {
   "cell_type": "code",
   "execution_count": 37,
   "metadata": {},
   "outputs": [
    {
     "data": {
      "image/png": "[encoded data removed]",
      "text/plain": [
       "<Figure size 1000x600 with 1 Axes>"
      ]
     },
     "metadata": {},
     "output_type": "display_data"
    }
   ],
   "source": [
    "df_scraped_filtered_8093_sorted = df_scraped_filtered_8093.sort_values(by=[\"Date\"])\n",
    "df_scraped_filtered_8093_sorted = df_scraped_filtered_8093_sorted.drop(columns=['Brand', 'Title', 'Kilometer', 'Gas Type', 'Gear Box', 'Year', 'Price', 'URL', 'Ad Date', 'Ad Model', 'Ad Doors', 'Ad Colour', 'Ad ID', 'Left_4_ID', 'Right_6_ID', 'Month_Text', 'Month', 'Day', 'Full_Date', 'Left_5_ID', 'Date_Numeric'])\n",
    "\n",
    "plt.figure(figsize=(10, 6))  # Adjust the figure size for better visibility\n",
    "ax = plt.gca()  # Get the current axes\n",
    "\n",
    "# Scatter plot\n",
    "plt.scatter(\n",
    "    df_scraped_filtered_8093_sorted['Date'], \n",
    "    df_scraped_filtered_8093_sorted['ID_Number'], \n",
    "    color='blue', \n",
    "    alpha=0.7,  # Add transparency to handle overlapping points\n",
    "    edgecolor='blue'\n",
    ")\n",
    "\n",
    "# Title and axis labels\n",
    "plt.title('Scatter Plot of Ad Date vs Ad ID', fontsize=14, color='white')\n",
    "plt.xlabel('Ad Date', fontsize=12, color='white')\n",
    "plt.ylabel('Ad ID', fontsize=12, color='white')\n",
    "\n",
    "# Reduce the number of y-axis labels\n",
    "y_ticks = df_scraped_filtered_8093_sorted['ID_Number'][::3000]  # Show every 10th ID\n",
    "plt.yticks(ticks=y_ticks, color='white')  # Set tick label color to white\n",
    "\n",
    "# Set x-axis tick label color to white\n",
    "ax.tick_params(axis='x', colors='white')  # Set x-axis tick label color\n",
    "\n",
    "# Add grid\n",
    "plt.grid(True, linestyle='--', color='#1A1A1A', alpha=0.7)\n",
    "\n",
    "# Set dark background\n",
    "plt.gcf().set_facecolor('#1A1A1A')  # Figure background\n",
    "ax.set_facecolor('#1A1A1A')         # Axes background\n",
    "\n",
    "# Optimize layout\n",
    "plt.tight_layout()\n",
    "\n",
    "# Show the plot\n",
    "plt.show()"
   ]
  },
  {
   "cell_type": "code",
   "execution_count": 19,
   "metadata": {},
   "outputs": [
    {
     "name": "stdout",
     "output_type": "stream",
     "text": [
      "Correlation: 0.48756073004052586\n"
     ]
    }
   ],
   "source": [
    "# Calculate correlation between 'date_numeric' and 'value'\n",
    "correlation_Left_5_ID_8093 = df_scraped_filtered_8093['Date_Numeric'].corr(df_scraped_filtered_8093['Left_5_ID'])\n",
    "\n",
    "print(\"Correlation:\", correlation_Left_5_ID_8093)"
   ]
  },
  {
   "cell_type": "code",
   "execution_count": 20,
   "metadata": {},
   "outputs": [
    {
     "name": "stdout",
     "output_type": "stream",
     "text": [
      "Correlation: 0.48946916912681226\n"
     ]
    }
   ],
   "source": [
    "### Excluding the 16 #8093 ads from June actually decreases the correlation, which is strange. Because I would think these ads must have been renewed \n",
    "### (if they are to follow the 28-day listing rule)\n",
    "\n",
    "df_scraped_filtered_8093_no_june = df_scraped_filtered_8093\n",
    "df_scraped_filtered_8093_no_june = df_scraped_filtered_8093_no_june[df_scraped_filtered_8093_no_june[\"Month_Text\"].isin(['ago', 'set', 'out'])]\n",
    "\n",
    "df_scraped_filtered_8093_no_june = df_scraped_filtered_8093_no_june['Date_Numeric'].corr(df_scraped_filtered_8093_no_june['ID_Number'])\n",
    "\n",
    "print(\"Correlation:\", df_scraped_filtered_8093_no_june)"
   ]
  },
  {
   "cell_type": "markdown",
   "metadata": {},
   "source": [
    "##### 3.3 Full Dataset ID & Publication Dates"
   ]
  },
  {
   "cell_type": "code",
   "execution_count": 21,
   "metadata": {},
   "outputs": [
    {
     "name": "stdout",
     "output_type": "stream",
     "text": [
      "      Left_4_ID Left_5_ID   ID_Number Month_Text  Full_Date Right_6_ID\n",
      "10994      8092     80921  8092185858        jun 2024-06-13     185858\n",
      "10980      8092     80921  8092190685        jun 2024-06-14     190685\n",
      "10884      8092     80922  8092203252        jun 2024-06-15     203252\n",
      "9734       8092     80924  8092458134        jun 2024-06-15     458134\n",
      "9741       8092     80924  8092457418        jun 2024-06-17     457418\n",
      "11073      8092     80921  8092171704        jun 2024-06-19     171704\n",
      "10910      8092     80921  8092199506        jun 2024-06-19     199506\n",
      "8028       8092     80928  8092813322        jun 2024-06-19     813322\n",
      "10166      8092     80923  8092359838        jun 2024-06-20     359838\n",
      "9148       8092     80925  8092555916        jun 2024-06-20     555916\n",
      "7057       8092     80929  8092900651        jun 2024-06-21     900651\n",
      "10053      8092     80923  8092376777        jun 2024-06-21     376777\n",
      "9135       8092     80925  8092557392        jun 2024-06-22     557392\n",
      "10039      8092     80923  8092381104        jun 2024-06-22     381104\n",
      "8622       8092     80926  8092660011        jun 2024-06-22     660011\n",
      "11776      8092     80920  8092036178        jun 2024-06-22     036178\n",
      "7082       8092     80929  8092900160        jun 2024-06-23     900160\n",
      "11367      8092     80921  8092103897        jun 2024-06-24     103897\n",
      "6863       8092     80929  8092917163        jun 2024-06-24     917163\n",
      "6853       8092     80929  8092917416        jun 2024-06-24     917416\n",
      "6852       8092     80929  8092917417        jun 2024-06-24     917417\n",
      "6851       8092     80929  8092917423        jun 2024-06-24     917423\n",
      "6828       8092     80929  8092919425        jun 2024-06-24     919425\n",
      "6651       8092     80929  8092961552        jun 2024-06-27     961552\n",
      "9461       8092     80924  8092499082        jun 2024-06-28     499082\n"
     ]
    }
   ],
   "source": [
    "### Picked an example of ID #8092, with publication date in June 2024\n",
    "\n",
    "df_scraped_filtered_8092 = df_scraped[df_scraped[\"Left_4_ID\"] == '8092']\n",
    "df_scraped_filtered_8092 = df_scraped_filtered_8092[df_scraped_filtered_8092[\"Month_Text\"] == 'jun']\n",
    "\n",
    "df_scraped_filtered_8092_sorted = df_scraped_filtered_8092.sort_values(by=['Full_Date'])\n",
    "\n",
    "print(df_scraped_filtered_8092_sorted[['Left_4_ID', 'Left_5_ID', 'ID_Number', 'Month_Text', 'Full_Date', 'Right_6_ID']])"
   ]
  },
  {
   "cell_type": "markdown",
   "metadata": {},
   "source": [
    "Looking at the table above it's not clear there's a correlation:\n",
    "\n",
    "8092457418 -> 17.06.2024 (rigjt_6_id = 457418)\n",
    "\n",
    "8092171704 -> 19.06.2024 (right_6_id = 171704)\n",
    "\n",
    "This could be explained by the fact that the ad officially posted on the 19.06.2024 was created before the one from 17.06.2024, but only posted after\n"
   ]
  },
  {
   "cell_type": "markdown",
   "metadata": {},
   "source": [
    "##### 3.4 Ads with Date 'Out of Boundaries'"
   ]
  },
  {
   "cell_type": "code",
   "execution_count": 22,
   "metadata": {},
   "outputs": [
    {
     "name": "stdout",
     "output_type": "stream",
     "text": [
      "               Brand                                                URL           Ad ID   ID_Number Left_4_ID Left_5_ID Right_6_ID Month_Text Month Day       Date\n",
      "3               Ford  https://www.standvirtual.com/carros/anuncio/fo...  ID: 8013276429  8013276429      8013     80132     276429        jun     6  20 2024-06-20\n",
      "13            Hummer  https://www.standvirtual.com/carros/anuncio/hu...  ID: 8041693271  8041693271      8041     80416     693271        jul     7  18 2024-07-18\n",
      "24     Mercedes-Benz  https://www.standvirtual.com/carros/anuncio/me...  ID: 8064854482  8064854482      8064     80648     854482        jun     6  22 2024-06-22\n",
      "30           Porsche  https://www.standvirtual.com/carros/anuncio/po...  ID: 8075131980  8075131980      8075     80751     131980        jun     6  19 2024-06-19\n",
      "43            Hummer  https://www.standvirtual.com/carros/anuncio/hu...  ID: 8080598412  8080598412      8080     80805     598412        jul     7  18 2024-07-18\n",
      "45               BMW  https://www.standvirtual.com/carros/anuncio/bm...  ID: 8080590547  8080590547      8080     80805     590547        jun     6  22 2024-06-22\n",
      "46            Hummer  https://www.standvirtual.com/carros/anuncio/hu...  ID: 8080570693  8080570693      8080     80805     570693        jul     7  18 2024-07-18\n",
      "55        Alfa Romeo  https://www.standvirtual.com/carros/anuncio/al...  ID: 8082703846  8082703846      8082     80827     703846        jun     6  23 2024-06-23\n",
      "58     Mercedes-Benz  https://www.standvirtual.com/carros/anuncio/me...  ID: 8082589204  8082589204      8082     80825     589204        jun     6  21 2024-06-21\n",
      "60            Nissan  https://www.standvirtual.com/carros/anuncio/ni...  ID: 8082513617  8082513617      8082     80825     513617        jun     6  21 2024-06-21\n",
      "62            Hummer  https://www.standvirtual.com/carros/anuncio/hu...  ID: 8082195741  8082195741      8082     80821     195741        jul     7  18 2024-07-18\n",
      "64            Hummer  https://www.standvirtual.com/carros/anuncio/hu...  ID: 8083996320  8083996320      8083     80839     996320        jul     7  18 2024-07-18\n",
      "65              Ford  https://www.standvirtual.com/carros/anuncio/fo...  ID: 8083580712  8083580712      8083     80835     580712        jul     7  18 2024-07-18\n",
      "70     Mercedes-Benz  https://www.standvirtual.com/carros/anuncio/me...  ID: 8083265635  8083265635      8083     80832     265635        jun     6  20 2024-06-20\n",
      "75          Cadillac  https://www.standvirtual.com/carros/anuncio/ca...  ID: 8084990993  8084990993      8084     80849     990993        jul     7  18 2024-07-18\n",
      "78            Hummer  https://www.standvirtual.com/carros/anuncio/hu...  ID: 8084896936  8084896936      8084     80848     896936        jul     7  18 2024-07-18\n",
      "90           Triumph  https://www.standvirtual.com/carros/anuncio/tr...  ID: 8084572909  8084572909      8084     80845     572909        jun     6  20 2024-06-20\n",
      "97             Dodge  https://www.standvirtual.com/carros/anuncio/do...  ID: 8084310658  8084310658      8084     80843     310658        jul     7  18 2024-07-18\n",
      "100            Dodge  https://www.standvirtual.com/carros/anuncio/do...  ID: 8084170923  8084170923      8084     80841     170923        jul     7  18 2024-07-18\n",
      "108           Hummer  https://www.standvirtual.com/carros/anuncio/hu...  ID: 8085907739  8085907739      8085     80859     907739        jul     7  18 2024-07-18\n",
      "112            Lotus  https://www.standvirtual.com/carros/anuncio/lo...  ID: 8085892768  8085892768      8085     80858     892768        jun     6  20 2024-06-20\n",
      "116              BMW  https://www.standvirtual.com/carros/anuncio/bm...  ID: 8085888394  8085888394      8085     80858     888394        jul     7   6 2024-07-06\n",
      "119           Jaguar  https://www.standvirtual.com/carros/anuncio/ja...  ID: 8085871044  8085871044      8085     80858     871044        jun     6  20 2024-06-20\n",
      "124          Renault  https://www.standvirtual.com/carros/anuncio/re...  ID: 8085780732  8085780732      8085     80857     780732        jun     6  17 2024-06-17\n",
      "129            Dodge  https://www.standvirtual.com/carros/anuncio/do...  ID: 8085681874  8085681874      8085     80856     681874        jul     7  18 2024-07-18\n",
      "146             Ford  https://www.standvirtual.com/carros/anuncio/fo...  ID: 8085464360  8085464360      8085     80854     464360        jul     7  18 2024-07-18\n",
      "150            Honda  https://www.standvirtual.com/carros/anuncio/ho...  ID: 8085382232  8085382232      8085     80853     382232        jun     6  20 2024-06-20\n",
      "181           Hummer  https://www.standvirtual.com/carros/anuncio/hu...  ID: 8086904261  8086904261      8086     80869     904261        jul     7  18 2024-07-18\n",
      "187              BMW  https://www.standvirtual.com/carros/anuncio/bm...  ID: 8086892533  8086892533      8086     80868     892533        jun     6  20 2024-06-20\n",
      "189    Mercedes-Benz  https://www.standvirtual.com/carros/anuncio/me...  ID: 8086871780  8086871780      8086     80868     871780        jul     7  30 2024-07-30\n",
      "195           Toyota  https://www.standvirtual.com/carros/anuncio/to...  ID: 8086837231  8086837231      8086     80868     837231        jul     7  24 2024-07-24\n",
      "206             Ford  https://www.standvirtual.com/carros/anuncio/fo...  ID: 8086735608  8086735608      8086     80867     735608        jul     7  18 2024-07-18\n",
      "235    Mercedes-Benz  https://www.standvirtual.com/carros/anuncio/me...  ID: 8086487162  8086487162      8086     80864     487162        jul     7  18 2024-07-18\n",
      "236        Chevrolet  https://www.standvirtual.com/carros/anuncio/ch...  ID: 8086458750  8086458750      8086     80864     458750        jul     7  18 2024-07-18\n",
      "237              NSU  https://www.standvirtual.com/carros/anuncio/ns...  ID: 8086457397  8086457397      8086     80864     457397        jun     6  20 2024-06-20\n",
      "257        Chevrolet  https://www.standvirtual.com/carros/anuncio/ch...  ID: 8086094229  8086094229      8086     80860     094229        jul     7  18 2024-07-18\n",
      "293      Rolls Royce  https://www.standvirtual.com/carros/anuncio/ro...  ID: 8087849779  8087849779      8087     80878     849779        mai     5  16 2024-05-16\n",
      "315    Mercedes-Benz  https://www.standvirtual.com/carros/anuncio/me...  ID: 8087800020  8087800020      8087     80878     800020        jul     7  21 2024-07-21\n",
      "352           Lancia  https://www.standvirtual.com/carros/anuncio/la...  ID: 8087717027  8087717027      8087     80877     717027        jun     6  18 2024-06-18\n",
      "433      Rolls Royce  https://www.standvirtual.com/carros/anuncio/ro...  ID: 8087495975  8087495975      8087     80874     495975        jul     7  18 2024-07-18\n",
      "483               VW  https://www.standvirtual.com/carros/anuncio/vw...  ID: 8087117180  8087117180      8087     80871     117180        jun     6  19 2024-06-19\n",
      "659          Renault  https://www.standvirtual.com/carros/anuncio/re...  ID: 8088772036  8088772036      8088     80887     772036        mar     3   8 2024-03-08\n",
      "752             Jeep  https://www.standvirtual.com/carros/anuncio/je...  ID: 8088584578  8088584578      8088     80885     584578        jul     7   3 2024-07-03\n",
      "780               VW  https://www.standvirtual.com/carros/anuncio/vw...  ID: 8088497555  8088497555      8088     80884     497555        jun     6  20 2024-06-20\n",
      "837             Fiat  https://www.standvirtual.com/carros/anuncio/fi...  ID: 8088403943  8088403943      8088     80884     403943        jun     6  20 2024-06-20\n",
      "937          Renault  https://www.standvirtual.com/carros/anuncio/re...  ID: 8088189781  8088189781      8088     80881     189781        jul     7  31 2024-07-31\n",
      "1199            Opel  https://www.standvirtual.com/carros/anuncio/op...  ID: 8089841419  8089841419      8089     80898     841419        jun     6  17 2024-06-17\n",
      "1314       Chevrolet  https://www.standvirtual.com/carros/anuncio/ch...  ID: 8089711013  8089711013      8089     80897     711013        jul     7  18 2024-07-18\n",
      "1372         Peugeot  https://www.standvirtual.com/carros/anuncio/pe...  ID: 8089637459  8089637459      8089     80896     637459        jun     6  21 2024-06-21\n",
      "1521         Peugeot  https://www.standvirtual.com/carros/anuncio/pe...  ID: 8089467114  8089467114      8089     80894     467114        jul     7  31 2024-07-31\n",
      "1560              DS  https://www.standvirtual.com/carros/anuncio/ds...  ID: 8089419278  8089419278      8089     80894     419278        jul     7  16 2024-07-16\n",
      "1745   Mercedes-Benz  https://www.standvirtual.com/carros/anuncio/me...  ID: 8089141484  8089141484      8089     80891     141484        jun     6  17 2024-06-17\n",
      "1803   Mercedes-Benz  https://www.standvirtual.com/carros/anuncio/me...  ID: 8089054818  8089054818      8089     80890     054818        mai     5   7 2024-05-07\n",
      "1820             UMM  https://www.standvirtual.com/carros/anuncio/um...  ID: 8089016476  8089016476      8089     80890     016476        jul     7  26 2024-07-26\n",
      "2180         Peugeot  https://www.standvirtual.com/carros/anuncio/pe...  ID: 8090798091  8090798091      8090     80907     798091        jun     6   2 2024-06-02\n",
      "2367            Fiat  https://www.standvirtual.com/carros/anuncio/fi...  ID: 8090711006  8090711006      8090     80907     711006        jul     7  24 2024-07-24\n",
      "2413         Renault  https://www.standvirtual.com/carros/anuncio/re...  ID: 8090691215  8090691215      8090     80906     691215        jul     7  29 2024-07-29\n",
      "2460         Citroën  https://www.standvirtual.com/carros/anuncio/ci...  ID: 8090661356  8090661356      8090     80906     661356        jul     7  28 2024-07-28\n",
      "2558              VW  https://www.standvirtual.com/carros/anuncio/vw...  ID: 8090609841  8090609841      8090     80906     609841        jun     6  22 2024-06-22\n",
      "2835          Abarth  https://www.standvirtual.com/carros/anuncio/ab...  ID: 8090344868  8090344868      8090     80903     344868        jun     6  12 2024-06-12\n",
      "2866          Toyota  https://www.standvirtual.com/carros/anuncio/to...  ID: 8090326053  8090326053      8090     80903     326053        jun     6  22 2024-06-22\n",
      "2867            Fiat  https://www.standvirtual.com/carros/anuncio/fi...  ID: 8090326050  8090326050      8090     80903     326050        jun     6  22 2024-06-22\n",
      "2869   Mercedes-Benz  https://www.standvirtual.com/carros/anuncio/me...  ID: 8090325912  8090325912      8090     80903     325912        jun     6  19 2024-06-19\n",
      "2960   Mercedes-Benz  https://www.standvirtual.com/carros/anuncio/me...  ID: 8090251665  8090251665      8090     80902     251665        abr     4  23 2024-04-23\n",
      "2971      Land Rover  https://www.standvirtual.com/carros/anuncio/la...  ID: 8090241106  8090241106      8090     80902     241106        jul     7  18 2024-07-18\n",
      "3094     Lamborghini  https://www.standvirtual.com/carros/anuncio/la...  ID: 8090111749  8090111749      8090     80901     111749        jun     6  23 2024-06-23\n",
      "3107         Ferrari  https://www.standvirtual.com/carros/anuncio/fe...  ID: 8090107457  8090107457      8090     80901     107457        jul     7   8 2024-07-08\n",
      "3115              VW  https://www.standvirtual.com/carros/anuncio/vw...  ID: 8090102929  8090102929      8090     80901     102929        jul     7   3 2024-07-03\n",
      "3182   Mercedes-Benz  https://www.standvirtual.com/carros/anuncio/me...  ID: 8090045967  8090045967      8090     80900     045967        jun     6  22 2024-06-22\n",
      "3271   Mercedes-Benz  https://www.standvirtual.com/carros/anuncio/me...  ID: 8091988093  8091988093      8091     80919     988093        jun     6  19 2024-06-19\n",
      "3438     Rolls Royce  https://www.standvirtual.com/carros/anuncio/ro...  ID: 8091922407  8091922407      8091     80919     922407        jul     7  18 2024-07-18\n",
      "3567            Ford  https://www.standvirtual.com/carros/anuncio/fo...  ID: 8091892688  8091892688      8091     80918     892688        jun     6  19 2024-06-19\n",
      "3581            Ford  https://www.standvirtual.com/carros/anuncio/fo...  ID: 8091890105  8091890105      8091     80918     890105        jun     6  28 2024-06-28\n",
      "3639           Smart  https://www.standvirtual.com/carros/anuncio/sm...  ID: 8091877262  8091877262      8091     80918     877262        jul     7  12 2024-07-12\n",
      "3871         Peugeot  https://www.standvirtual.com/carros/anuncio/pe...  ID: 8091836881  8091836881      8091     80918     836881        jun     6  18 2024-06-18\n",
      "4043             BMW  https://www.standvirtual.com/carros/anuncio/bm...  ID: 8091767202  8091767202      8091     80917     767202        jun     6  20 2024-06-20\n",
      "4071             BMW  https://www.standvirtual.com/carros/anuncio/bm...  ID: 8091759753  8091759753      8091     80917     759753        jul     7  27 2024-07-27\n",
      "4200              VW  https://www.standvirtual.com/carros/anuncio/vw...  ID: 8091703909  8091703909      8091     80917     703909        jun     6  24 2024-06-24\n",
      "4496         Citroën  https://www.standvirtual.com/carros/anuncio/ci...  ID: 8091619809  8091619809      8091     80916     619809        jun     6  19 2024-06-19\n",
      "4586             BMW  https://www.standvirtual.com/carros/anuncio/bm...  ID: 8091607016  8091607016      8091     80916     607016        jul     7  12 2024-07-12\n",
      "4797           Smart  https://www.standvirtual.com/carros/anuncio/sm...  ID: 8091547766  8091547766      8091     80915     547766        jun     6  21 2024-06-21\n",
      "4884            Opel  https://www.standvirtual.com/carros/anuncio/op...  ID: 8091502982  8091502982      8091     80915     502982        jul     7  18 2024-07-18\n",
      "5100            Ford  https://www.standvirtual.com/carros/anuncio/fo...  ID: 8091409860  8091409860      8091     80914     409860        jun     6  23 2024-06-23\n",
      "5312           Skoda  https://www.standvirtual.com/carros/anuncio/sk...  ID: 8091368253  8091368253      8091     80913     368253        jul     7  31 2024-07-31\n",
      "5313         Peugeot  https://www.standvirtual.com/carros/anuncio/pe...  ID: 8091368217  8091368217      8091     80913     368217        mai     5  26 2024-05-26\n",
      "5377           Dodge  https://www.standvirtual.com/carros/anuncio/do...  ID: 8091299680  8091299680      8091     80912     299680        jul     7  18 2024-07-18\n",
      "5450          Nissan  https://www.standvirtual.com/carros/anuncio/ni...  ID: 8091259349  8091259349      8091     80912     259349        jun     6  29 2024-06-29\n",
      "5655            Ford  https://www.standvirtual.com/carros/anuncio/fo...  ID: 8091190778  8091190778      8091     80911     190778        jul     7  19 2024-07-19\n",
      "5796       Chevrolet  https://www.standvirtual.com/carros/anuncio/ch...  ID: 8091140186  8091140186      8091     80911     140186        jul     7  18 2024-07-18\n",
      "5853          Toyota  https://www.standvirtual.com/carros/anuncio/to...  ID: 8091107064  8091107064      8091     80911     107064        jun     6  17 2024-06-17\n",
      "5879         Citroën  https://www.standvirtual.com/carros/anuncio/ci...  ID: 8091099880  8091099880      8091     80910     099880        jun     6  21 2024-06-21\n",
      "6006   Mercedes-Benz  https://www.standvirtual.com/carros/anuncio/me...  ID: 8091022121  8091022121      8091     80910     022121        jun     6  21 2024-06-21\n",
      "6651         Renault  https://www.standvirtual.com/carros/anuncio/re...  ID: 8092961552  8092961552      8092     80929     961552        jun     6  27 2024-06-27\n",
      "6828            Opel  https://www.standvirtual.com/carros/anuncio/op...  ID: 8092919425  8092919425      8092     80929     919425        jun     6  24 2024-06-24\n",
      "6851         Renault  https://www.standvirtual.com/carros/anuncio/re...  ID: 8092917423  8092917423      8092     80929     917423        jun     6  24 2024-06-24\n",
      "6852         Renault  https://www.standvirtual.com/carros/anuncio/re...  ID: 8092917417  8092917417      8092     80929     917417        jun     6  24 2024-06-24\n",
      "6853           Mazda  https://www.standvirtual.com/carros/anuncio/ma...  ID: 8092917416  8092917416      8092     80929     917416        jun     6  24 2024-06-24\n",
      "6863             BMW  https://www.standvirtual.com/carros/anuncio/bm...  ID: 8092917163  8092917163      8092     80929     917163        jun     6  24 2024-06-24\n",
      "7057         Silence  https://www.standvirtual.com/carros/anuncio/si...  ID: 8092900651  8092900651      8092     80929     900651        jun     6  21 2024-06-21\n",
      "7082   Mercedes-Benz  https://www.standvirtual.com/carros/anuncio/me...  ID: 8092900160  8092900160      8092     80929     900160        jun     6  23 2024-06-23\n",
      "7392         Peugeot  https://www.standvirtual.com/carros/anuncio/pe...  ID: 8092862795  8092862795      8092     80928     862795        jul     7  30 2024-07-30\n",
      "8028            Ford  https://www.standvirtual.com/carros/anuncio/fo...  ID: 8092813322  8092813322      8092     80928     813322        jun     6  19 2024-06-19\n",
      "8058           Dacia  https://www.standvirtual.com/carros/anuncio/da...  ID: 8092812390  8092812390      8092     80928     812390        jul     7  10 2024-07-10\n",
      "8284            Audi  https://www.standvirtual.com/carros/anuncio/au...  ID: 8092788537  8092788537      8092     80927     788537        jul     7  29 2024-07-29\n",
      "8546         Renault  https://www.standvirtual.com/carros/anuncio/re...  ID: 8092669911  8092669911      8092     80926     669911        jul     7  10 2024-07-10\n",
      "8622      Land Rover  https://www.standvirtual.com/carros/anuncio/la...  ID: 8092660011  8092660011      8092     80926     660011        jun     6  22 2024-06-22\n",
      "8760         Bentley  https://www.standvirtual.com/carros/anuncio/be...  ID: 8092650798  8092650798      8092     80926     650798        jul     7   5 2024-07-05\n",
      "9135         Peugeot  https://www.standvirtual.com/carros/anuncio/pe...  ID: 8092557392  8092557392      8092     80925     557392        jun     6  22 2024-06-22\n",
      "9148         Citroën  https://www.standvirtual.com/carros/anuncio/ci...  ID: 8092555916  8092555916      8092     80925     555916        jun     6  20 2024-06-20\n",
      "9461   Mercedes-Benz  https://www.standvirtual.com/carros/anuncio/me...  ID: 8092499082  8092499082      8092     80924     499082        jun     6  28 2024-06-28\n",
      "9495           Honda  https://www.standvirtual.com/carros/anuncio/ho...  ID: 8092497726  8092497726      8092     80924     497726        jul     7  27 2024-07-27\n",
      "9734            Fiat  https://www.standvirtual.com/carros/anuncio/fi...  ID: 8092458134  8092458134      8092     80924     458134        jun     6  15 2024-06-15\n",
      "9741   Mercedes-Benz  https://www.standvirtual.com/carros/anuncio/me...  ID: 8092457418  8092457418      8092     80924     457418        jun     6  17 2024-06-17\n",
      "10039            BMW  https://www.standvirtual.com/carros/anuncio/bm...  ID: 8092381104  8092381104      8092     80923     381104        jun     6  22 2024-06-22\n",
      "10053             VW  https://www.standvirtual.com/carros/anuncio/vw...  ID: 8092376777  8092376777      8092     80923     376777        jun     6  21 2024-06-21\n",
      "10119          Tesla  https://www.standvirtual.com/carros/anuncio/te...  ID: 8092363753  8092363753      8092     80923     363753        jul     7   2 2024-07-02\n",
      "10127          Dodge  https://www.standvirtual.com/carros/anuncio/do...  ID: 8092363578  8092363578      8092     80923     363578        jul     7  18 2024-07-18\n",
      "10166            BMW  https://www.standvirtual.com/carros/anuncio/bm...  ID: 8092359838  8092359838      8092     80923     359838        jun     6  20 2024-06-20\n",
      "10884           SEAT  https://www.standvirtual.com/carros/anuncio/se...  ID: 8092203252  8092203252      8092     80922     203252        jun     6  15 2024-06-15\n",
      "10910            BMW  https://www.standvirtual.com/carros/anuncio/bm...  ID: 8092199506  8092199506      8092     80921     199506        jun     6  19 2024-06-19\n",
      "10980           Fiat  https://www.standvirtual.com/carros/anuncio/fi...  ID: 8092190685  8092190685      8092     80921     190685        jun     6  14 2024-06-14\n",
      "10994        Renault  https://www.standvirtual.com/carros/anuncio/re...  ID: 8092185858  8092185858      8092     80921     185858        jun     6  13 2024-06-13\n",
      "11073  Mercedes-Benz  https://www.standvirtual.com/carros/anuncio/me...  ID: 8092171704  8092171704      8092     80921     171704        jun     6  19 2024-06-19\n",
      "11139            BMW  https://www.standvirtual.com/carros/anuncio/bm...  ID: 8092157118  8092157118      8092     80921     157118        abr     4  29 2024-04-29\n",
      "11186        Bentley  https://www.standvirtual.com/carros/anuncio/be...  ID: 8092151182  8092151182      8092     80921     151182        jul     7  18 2024-07-18\n",
      "11188  Mercedes-Benz  https://www.standvirtual.com/carros/anuncio/me...  ID: 8092150851  8092150851      8092     80921     150851        jul     7  18 2024-07-18\n",
      "11367     Mitsubishi  https://www.standvirtual.com/carros/anuncio/mi...  ID: 8092103897  8092103897      8092     80921     103897        jun     6  24 2024-06-24\n",
      "11381          Skoda  https://www.standvirtual.com/carros/anuncio/sk...  ID: 8092100507  8092100507      8092     80921     100507        jul     7  12 2024-07-12\n",
      "11457           Ford  https://www.standvirtual.com/carros/anuncio/fo...  ID: 8092091884  8092091884      8092     80920     091884        jul     7  29 2024-07-29\n",
      "11776     Mitsubishi  https://www.standvirtual.com/carros/anuncio/mi...  ID: 8092036178  8092036178      8092     80920     036178        jun     6  22 2024-06-22\n",
      "11844    Lamborghini  https://www.standvirtual.com/carros/anuncio/la...  ID: 8092026796  8092026796      8092     80920     026796        jul     7  22 2024-07-22\n",
      "32519         Jaguar  https://www.standvirtual.com/carros/anuncio/ja...  ID: 8093185491  8093185491      8093     80931     185491        jul     7  31 2024-07-31\n",
      "32576  Mercedes-Benz  https://www.standvirtual.com/carros/anuncio/me...  ID: 8093172496  8093172496      8093     80931     172496        jul     7  30 2024-07-30\n",
      "32672          Cupra  https://www.standvirtual.com/carros/anuncio/cu...  ID: 8093166537  8093166537      8093     80931     166537        jul     7  30 2024-07-30\n",
      "33011           Opel  https://www.standvirtual.com/carros/anuncio/op...  ID: 8093152107  8093152107      8093     80931     152107        jul     7  26 2024-07-26\n",
      "33209        Peugeot  https://www.standvirtual.com/carros/anuncio/pe...  ID: 8093127595  8093127595      8093     80931     127595        jul     7  25 2024-07-25\n",
      "33215  Mercedes-Benz  https://www.standvirtual.com/carros/anuncio/me...  ID: 8093127358  8093127358      8093     80931     127358        jul     7  24 2024-07-24\n",
      "33409  Mercedes-Benz  https://www.standvirtual.com/carros/anuncio/me...  ID: 8093122660  8093122660      8093     80931     122660        jul     7  25 2024-07-25\n",
      "33546        Renault  https://www.standvirtual.com/carros/anuncio/re...  ID: 8093119418  8093119418      8093     80931     119418        jul     7  22 2024-07-22\n",
      "33960        Porsche  https://www.standvirtual.com/carros/anuncio/po...  ID: 8093103432  8093103432      8093     80931     103432        jul     7  18 2024-07-18\n",
      "34193           SEAT  https://www.standvirtual.com/carros/anuncio/se...  ID: 8093072967  8093072967      8093     80930     072967        jul     7  15 2024-07-15\n",
      "34475  Mercedes-Benz  https://www.standvirtual.com/carros/anuncio/me...  ID: 8093063470  8093063470      8093     80930     063470        jul     7  25 2024-07-25\n",
      "34572        Porsche  https://www.standvirtual.com/carros/anuncio/po...  ID: 8093056557  8093056557      8093     80930     056557        jul     7  12 2024-07-12\n",
      "34573           Fiat  https://www.standvirtual.com/carros/anuncio/fi...  ID: 8093056549  8093056549      8093     80930     056549        jul     7  11 2024-07-11\n",
      "34598        Porsche  https://www.standvirtual.com/carros/anuncio/po...  ID: 8093056131  8093056131      8093     80930     056131        jul     7  25 2024-07-25\n",
      "34604           Audi  https://www.standvirtual.com/carros/anuncio/au...  ID: 8093056071  8093056071      8093     80930     056071        jul     7  11 2024-07-11\n",
      "34970        Porsche  https://www.standvirtual.com/carros/anuncio/po...  ID: 8093027311  8093027311      8093     80930     027311        jul     7  29 2024-07-29\n"
     ]
    }
   ],
   "source": [
    "df_scraped_oob_1 = df_scraped[df_scraped['Month_Text'].isin(['mar', 'abr', 'mai', 'jun', 'jul'])]\n",
    "\n",
    "df_scraped_oob_1 = df_scraped_oob_1.drop(columns=['Title', 'Kilometer', 'Ad Doors', 'Ad Colour', 'Gas Type', 'Gear Box', 'Year', 'Price', 'Ad Date', 'Ad Model', 'Date_Numeric', 'Full_Date'])\n",
    "\n",
    "print(df_scraped_oob_1)"
   ]
  },
  {
   "cell_type": "code",
   "execution_count": 23,
   "metadata": {},
   "outputs": [
    {
     "name": "stdout",
     "output_type": "stream",
     "text": [
      "               Brand                                                URL           Ad ID   ID_Number Left_4_ID Left_5_ID Right_6_ID Month_Text Month Day       Date\n",
      "293      Rolls Royce  https://www.standvirtual.com/carros/anuncio/ro...  ID: 8087849779  8087849779      8087     80878     849779        mai     5  16 2024-05-16\n",
      "659          Renault  https://www.standvirtual.com/carros/anuncio/re...  ID: 8088772036  8088772036      8088     80887     772036        mar     3   8 2024-03-08\n",
      "1803   Mercedes-Benz  https://www.standvirtual.com/carros/anuncio/me...  ID: 8089054818  8089054818      8089     80890     054818        mai     5   7 2024-05-07\n",
      "2960   Mercedes-Benz  https://www.standvirtual.com/carros/anuncio/me...  ID: 8090251665  8090251665      8090     80902     251665        abr     4  23 2024-04-23\n",
      "5313         Peugeot  https://www.standvirtual.com/carros/anuncio/pe...  ID: 8091368217  8091368217      8091     80913     368217        mai     5  26 2024-05-26\n",
      "11139            BMW  https://www.standvirtual.com/carros/anuncio/bm...  ID: 8092157118  8092157118      8092     80921     157118        abr     4  29 2024-04-29\n"
     ]
    }
   ],
   "source": [
    "df_scraped_oob_2 = df_scraped[df_scraped['Month_Text'].isin(['mar', 'abr', 'mai'])]\n",
    "\n",
    "df_scraped_oob_2 = df_scraped_oob_2.drop(columns=['Title', 'Kilometer', 'Ad Doors', 'Ad Colour', 'Gas Type', 'Gear Box', 'Year', 'Price', 'Ad Date', 'Ad Model', 'Date_Numeric', 'Full_Date'])\n",
    "\n",
    "print(df_scraped_oob_2)"
   ]
  },
  {
   "cell_type": "markdown",
   "metadata": {},
   "source": [
    "##### 3.5 Renewed Ad Estimates"
   ]
  },
  {
   "cell_type": "code",
   "execution_count": 24,
   "metadata": {},
   "outputs": [
    {
     "name": "stdout",
     "output_type": "stream",
     "text": [
      "According to my estimates, the percentage of non-renewed ads is 66.29%\n",
      "According to my estimates, the percentage of renewed ads is 33.71%\n"
     ]
    }
   ],
   "source": [
    "df_renewed_ads = df_scraped[df_scraped[\"Left_4_ID\"] == '8093']\n",
    "df_renewed_ads = df_renewed_ads[df_renewed_ads[\"Month_Text\"].isin(['ago', 'set', 'out'])]\n",
    "\n",
    "df_renewed_ads_sum = df_renewed_ads[\"Brand\"].count()\n",
    "df_scraped_sum = df_scraped[\"Brand\"].count()\n",
    "\n",
    "percentage_renewed_ads = df_renewed_ads_sum / df_scraped_sum\n",
    "percentage_non_renewed_ads = 1 - percentage_renewed_ads\n",
    "\n",
    "formatted_percentage_renewed_ads = f\"{percentage_renewed_ads:.2%}\"\n",
    "formatted_percentage_non_renewed_ads = f\"{percentage_non_renewed_ads:.2%}\"\n",
    "\n",
    "print(f\"According to my estimates, the percentage of non-renewed ads is {formatted_percentage_renewed_ads}\")\n",
    "print(f\"According to my estimates, the percentage of renewed ads is {formatted_percentage_non_renewed_ads}\")"
   ]
  }
 ],
 "metadata": {
  "kernelspec": {
   "display_name": "DSML",
   "language": "python",
   "name": "python3"
  },
  "language_info": {
   "codemirror_mode": {
    "name": "ipython",
    "version": 3
   },
   "file_extension": ".py",
   "mimetype": "text/x-python",
   "name": "python",
   "nbconvert_exporter": "python",
   "pygments_lexer": "ipython3",
   "version": "3.12.7"
  }
 },
 "nbformat": 4,
 "nbformat_minor": 2
}
